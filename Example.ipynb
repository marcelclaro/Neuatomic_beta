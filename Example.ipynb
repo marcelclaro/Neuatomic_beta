{
 "cells": [
  {
   "cell_type": "markdown",
   "metadata": {},
   "source": [
    "### PbSnO Energy Band simulation example\n",
    "First, load all the needed packages and create the system putting all parameters together"
   ]
  },
  {
   "cell_type": "code",
   "execution_count": null,
   "metadata": {},
   "outputs": [],
   "source": [
    "import torch\n",
    "import torch.nn.functional as F\n",
    "from NNTB.crystal import Crystal\n",
    "from NNTB.system import TBSystem\n",
    "import numpy as np\n",
    "from e3nn import o3, nn\n",
    "from e3nn.o3 import Irreps, spherical_harmonics\n",
    "from NNTB.balanced_irreps import BalancedIrreps, WeightBalancedIrreps\n",
    "from torch_scatter import scatter\n",
    "import os\n",
    "from torch_geometric.data import Data, Batch\n",
    "import matplotlib.pyplot as plt\n",
    "from NNTB.hamiltonian_irrep import HamiltonianIrrepTransformer\n",
    "from NNTB.balanced_irreps import BalancedIrreps\n",
    "\n",
    "# We import the warnings library to avoid the warnings from e3nn in the new versions of python...\n",
    "import warnings\n",
    "warnings.filterwarnings('ignore') \n",
    "\n",
    "torch.set_default_dtype(torch.float32)\n",
    "torch.manual_seed(42)\n",
    "\n",
    "# The diccionaries with the element information are created\n",
    "element_encoding = {'O': 0, 'Pb': 1, 'Sn': 2}\n",
    "\n",
    "# We define the orbitals for each element\n",
    "NNTB_orbitals = \"1s1p\"\n",
    "\n",
    "#From numerical orbitals used for DFT\n",
    "abacus_orbitals = { \n",
    "    'Pb': \"2s2p2d1f\",\n",
    "    'Sn': \"2s2p2d1f\",\n",
    "    'O': \"2s2p1d\"\n",
    "    }\n",
    "\n",
    "# Folder with all the atom information\n",
    "dataFolder = \"./\"    # for example \"./\" or \"../DataFolder\"\n",
    "\n",
    "# We need to indicate the representations for the inner layers\n",
    "hidden_irreps = BalancedIrreps(4, 128, False)\n",
    "#You can use custom irreps too: e.g. hidden_irreps = Irreps(\"38x0e+38x0o+4x1e+4x1o+2x2e+2x2o+2x3e+2x3o+1x4e+1x4o\")\n",
    "\n",
    "calculator = TBSystem(element_encoding,\n",
    "                  orbitalstrings=NNTB_orbitals, #Orbitals for the NNTB\n",
    "                  orbitalabacus=abacus_orbitals,   #Orbitals from the ABACUS LCAO orbitals\n",
    "                  spin=False,           #Spin Hamiltonian?\n",
    "                  neighbour_cutoff=8.0, #neighbour cutoff in Angstrom\n",
    "                  gauss_width=500.0,   #Parameter for distance encoder (gaussian width)\n",
    "                  dist_onehotsize=128, #Distance encoder size\n",
    "                  max_atoms=10,         #Maximum number of atoms in the system, it can be bigger than element_encoding to  allow later training\n",
    "                  neighbour_cells=2,    # Number of neighbour cells to consider for periodic boundary conditions\n",
    "                  model = 'edgesegnn',  # The model to be used\n",
    "                  hidden_irreps = hidden_irreps, # The representations for the inner layers, can be None then it will be calculated using lmax_irrep_hidden and hidden_features\n",
    "                  lmax_irrep_Y = 4,        # Maximum l for the spherical harmonics for node and edge attributes\n",
    "                  lmax_irrep_hidden = 4,  # Maximum l for the hidden layers (ignored if hidden_irreps is not None)\n",
    "                  hidden_features = 128,  # Number of features for the hidden layers (ignored if hidden_irreps is not None)\n",
    "                  convolution_layers = 3, # Number of convolutional layers in the message passing step\n",
    "                  MLP_layers = 2,         # Number of layers for the MLPs for tensor products depending on the distance (weightNet)\n",
    "                  weight_hidden= 64,        # Number of features for the hidden layers in the weightNet\n",
    "                  weightNetType='MLP', # Type of weightNet, can be MLP or KAN\n",
    "                  norm = \"batch\")      #Normalization for the output of the hidden layers, can be None, batch or instance\n",
    "#check other parameters for the calculator in the documentation...\n",
    "\n",
    "\n",
    "# Other environment configurations..\n",
    "\n",
    "#printing options\n",
    "torch.set_printoptions(precision=3, linewidth=200, sci_mode=False)\n",
    "np.set_printoptions(precision=3, linewidth=200, edgeitems=10, suppress=True, threshold=10000)\n",
    "\n",
    "#Number of threads, adjust to the number of cores in your CPU\n",
    "torch.set_num_threads(8)\n",
    "\n",
    "\n",
    "device = torch.device('cuda' if torch.cuda.is_available() else 'cpu')\n",
    "#device='cpu'\n",
    "\n",
    "print(f\"Device:{device}\")\n",
    "print(f\"pyTorch Version:{torch.__version__}\")\n",
    "\n",
    "\n",
    "# Plotting in the notebook, IPhython?\n",
    "%matplotlib inline"
   ]
  },
  {
   "cell_type": "markdown",
   "metadata": {},
   "source": [
    "Construct the the NN model (This step takes approx 1 min.)\n",
    "* After constructing, you can save the original model with the random parameters before training\n",
    "* If a previous model was saved after training, you can load it (this import all the trained parameters and replace the default random parameters)"
   ]
  },
  {
   "cell_type": "code",
   "execution_count": null,
   "metadata": {},
   "outputs": [],
   "source": [
    "model = calculator.gettorchModel(\"Hamiltonian\")\n",
    "#torch.save(model.state_dict(), f'{dataFolder}/Models/modelPbSnO-02-07-c.pth')\n",
    "#model.load_state_dict(torch.load(f'{dataFolder}/Models/modelPbSnO-02-07-a.pth'))"
   ]
  },
  {
   "cell_type": "markdown",
   "metadata": {},
   "source": [
    "Some models require to precompute parameters (otherwise is too slow to calculate on each epoch)\n",
    "* e.g. Irreducible representations and spherical harmonics of vectors are calculated here.\n",
    "\n",
    "You can process a whole folder. The format is a {prefix}.cif followed by DFT data: .log, .HR, .SR files (HR_SO and SR_SO if includes spin orbit)"
   ]
  },
  {
   "cell_type": "code",
   "execution_count": null,
   "metadata": {},
   "outputs": [],
   "source": [
    "calculator.processGraphFolder(f'{dataFolder}/PbSnOtest/',f'{dataFolder}/PbSnO_testprocessed/')\n",
    "calculator.processGraphFolder(f'{dataFolder}/PbSnOtrain/',f'{dataFolder}/PbSnO_trainprocessed/')"
   ]
  },
  {
   "cell_type": "markdown",
   "metadata": {},
   "source": [
    "Now, you can train the model. You can follow the training evolution in the \"./runs\" directory opening the tensorboard extension"
   ]
  },
  {
   "cell_type": "code",
   "execution_count": null,
   "metadata": {},
   "outputs": [],
   "source": [
    "from NNTB.trainwithband import trainModel\n",
    "trainModel(calculator,model,\n",
    "            datafolder=f'{dataFolder}/PbSnO_trainprocessed',        #Folder with the processed data\n",
    "            validation_folder=f'{dataFolder}/PbSnO_testprocessed',  #Folder with the processed data for validation\n",
    "            runname='Example',                            #Name for the run\n",
    "            learn_rate=0.005,weight_decay=8.0e-8,batchsize=1,       #Learning rate, weight decay and batch size\n",
    "            device='cuda',epochs=6000,          #Device to use, number of epochs\n",
    "            SymmGauge=True,EnergyGauge=False,   #Symmetry and energy gauge\n",
    "            scheduler_patience = 30, scheduler_factor = 0.9,  #Scheduler parameters\n",
    "            bandloss = True,                    #use Band loss in the training\n",
    "            bandloss_beta = 0.005, bandloss_patience = 3000, bandloss_max_lr = 0.002, #For stability, requires initial training before use bandloss. total loss = bandloss + beta * loss, iterations to start bandloss, max learning rate for bandloss and max learning rate\n",
    "            adaptive_patience = -1,            #Iterations to start adaptive distance encoder, -1 for never use it\n",
    "            modeltype='Hamiltonian')           #Type of model, Hamiltonian (with or without SOC) or Overlap"
   ]
  },
  {
   "cell_type": "markdown",
   "metadata": {},
   "source": [
    "You can save the model parameters after training"
   ]
  },
  {
   "cell_type": "code",
   "execution_count": 5,
   "metadata": {},
   "outputs": [],
   "source": [
    "torch.save(model.state_dict(), './models/modelPbSnO-date.pth')"
   ]
  },
  {
   "cell_type": "markdown",
   "metadata": {},
   "source": [
    "A way of test it is to compare with a reference data"
   ]
  },
  {
   "cell_type": "code",
   "execution_count": 4,
   "metadata": {},
   "outputs": [],
   "source": [
    "from NNTB.hamiltonian_irrep import HamiltonianIrrepTransformer\n",
    "#Load reference model\n",
    "crystal_test = Crystal(f\"{dataFolder}/structures/\", \"PbO_alpha\", calculator, undirected=True)\n",
    "data_test = crystal_test.graph\n",
    "calculator.processGraph(data_test)\n",
    "data_test.to('cuda')  #Move to GPU as the model is there\n",
    "\n",
    "#Evaluate the model:\n",
    "out_test = calculator.hamiltoniantransformer.from_irrep_Hamiltonian(model(data_test).to('cpu'))"
   ]
  },
  {
   "cell_type": "markdown",
   "metadata": {},
   "source": [
    "Helper function. Add a plot function that overlaps the matrix values inside the plot"
   ]
  },
  {
   "cell_type": "code",
   "execution_count": 5,
   "metadata": {},
   "outputs": [],
   "source": [
    "def plot_matrix_values(matrix):\n",
    "    plt.imshow(matrix, cmap='viridis', interpolation='nearest')\n",
    "\n",
    "    # Obtener los límites de los valores para definir el color dinámico\n",
    "    min_val, max_val = matrix.min(), matrix.max()\n",
    "\n",
    "    # Añadir los valores de cada elemento sobre la imagen\n",
    "    for i in range(matrix.shape[0]):\n",
    "        for j in range(matrix.shape[1]):\n",
    "            value = matrix[i, j]\n",
    "            # Definir el color dinámico: blanco para valores bajos, negro para altos\n",
    "            color = 'white' if value < (min_val + max_val) / 2 else 'black'\n",
    "            plt.text(j, i, f'{value:.5f}', ha='center', va='center', color=color)\n",
    "\n",
    "    plt.colorbar()  # Mostrar la barra de color\n",
    "    plt.show()"
   ]
  },
  {
   "cell_type": "markdown",
   "metadata": {},
   "source": [
    "Compare the mean-absolute error(MAE) for ON-SITE energy:"
   ]
  },
  {
   "cell_type": "code",
   "execution_count": null,
   "metadata": {},
   "outputs": [],
   "source": [
    "%matplotlib inline\n",
    "matrix1 = np.zeros((4,4))\n",
    "n_eval = 0\n",
    "for i in range(crystal_test.graph.hopping.size(0)):\n",
    "    if(crystal_test.graph.selfenergy[i].item() == True):\n",
    "        n_eval += 1\n",
    "        matrix1 = matrix1 + (crystal_test.graph.hopping[i].cpu().numpy()-out_test[i].cpu().detach().numpy())**2\n",
    "    \n",
    "matrix1 = np.sqrt(matrix1 / n_eval)\n",
    "plot_matrix_values(matrix1)"
   ]
  },
  {
   "cell_type": "markdown",
   "metadata": {},
   "source": [
    "Compare the mean-absolute error(MAE) for OFF-SITE energy:"
   ]
  },
  {
   "cell_type": "code",
   "execution_count": null,
   "metadata": {},
   "outputs": [],
   "source": [
    "%matplotlib inline\n",
    "matrix1 = np.zeros((4,4))\n",
    "n_eval = 0\n",
    "for i in range(crystal_test.graph.hopping.size(0)):\n",
    "    if(crystal_test.graph.selfenergy[i].item() == False):\n",
    "        n_eval += 1\n",
    "        matrix1 = matrix1 + (crystal_test.graph.hopping[i].cpu().numpy()-out_test[i].cpu().detach().numpy())**2\n",
    "matrix1 = np.sqrt(matrix1 / n_eval)\n",
    "plot_matrix_values(matrix1)"
   ]
  },
  {
   "cell_type": "markdown",
   "metadata": {},
   "source": [
    "Compare expected vs modeled results for each hamiltoniam bloch (orbital s x s, s x p, p x p)"
   ]
  },
  {
   "cell_type": "code",
   "execution_count": null,
   "metadata": {},
   "outputs": [],
   "source": [
    "import matplotlib.pyplot as plt\n",
    "\n",
    "# Assuming pred_tensor and target_tensor are your tensors of shape [n, 4, 4]\n",
    "n = data_test.hopping.size(0)\n",
    "\n",
    "%matplotlib inline\n",
    "# Plotting\n",
    "plt.figure(figsize=(8, 6))\n",
    "plt.scatter(data_test.hopping.cpu().detach()[:,0,0], out_test.cpu().detach()[:,0,0],c='black', label='s-s orbital block')\n",
    "plt.scatter(data_test.hopping.cpu().detach()[:,0,1:], out_test.cpu().detach()[:,0,1:],c='red', label='s-p orbital block')\n",
    "plt.scatter(data_test.hopping.cpu().detach()[:,1:,1:], out_test.cpu().detach()[:,1:,1:],c='green', label='p-p orbital block')\n",
    "\n",
    "plt.xlabel('Target')\n",
    "plt.ylabel('Predicted')\n",
    "plt.title('Scatter Plot of Predicted vs Target Values')\n",
    "plt.legend()\n",
    "plt.grid(True)\n",
    "plt.show()"
   ]
  },
  {
   "cell_type": "markdown",
   "metadata": {},
   "source": [
    "Finally, compare the bandenergy !!!"
   ]
  },
  {
   "cell_type": "code",
   "execution_count": 9,
   "metadata": {},
   "outputs": [],
   "source": [
    "from NNTB.tightbinding import bandfromgraph_torch"
   ]
  },
  {
   "cell_type": "code",
   "execution_count": null,
   "metadata": {},
   "outputs": [],
   "source": [
    "kpoints = np.load(f'{dataFolder}/kpoints.npy')\n",
    "band = bandfromgraph_torch(data_test.cpu(),calculator,torch.tensor(kpoints,dtype=torch.float32))\n",
    "data_test.hopping=(out_test.cpu().detach())\n",
    "band2 = bandfromgraph_torch(data_test.cpu().detach(),calculator,torch.tensor(kpoints,dtype=torch.float32))\n",
    "\n",
    "import matplotlib.pyplot as plt\n",
    "\n",
    "x = range(0,len(band2))\n",
    "\n",
    "for i,values in enumerate(band2):\n",
    "    plt.scatter(np.full(len(values),i), values, c=\"black\", s=2.0)\n",
    "\n",
    "for i,values in enumerate(band):\n",
    "    plt.scatter(np.full(len(values),i), values, c=\"red\", s=2.0)\n",
    "\n",
    "# Add labels and legend\n",
    "plt.xlabel('x')\n",
    "plt.ylabel('y')\n",
    "plt.ylim(-10,20)\n",
    "\n",
    "# Show the plot\n",
    "plt.show()"
   ]
  },
  {
   "cell_type": "markdown",
   "metadata": {},
   "source": [
    "### Extra Tests\n",
    "Compare with the superlattice"
   ]
  },
  {
   "cell_type": "code",
   "execution_count": 11,
   "metadata": {},
   "outputs": [],
   "source": [
    "from NNTB.hamiltonian_irrep import HamiltonianIrrepTransformer\n",
    "crystal_test = Crystal(f\"{dataFolder}/structures/\", \"2PbO_alpha-2SnO_alpha\", calculator, undirected=True)\n",
    "data_test = crystal_test.graph\n",
    "calculator.processGraph(data_test)\n",
    "data_test.to('cuda')\n",
    "out_test = calculator.hamiltoniantransformer.from_irrep_Hamiltonian(model(data_test).to('cpu'))"
   ]
  },
  {
   "cell_type": "code",
   "execution_count": null,
   "metadata": {},
   "outputs": [],
   "source": [
    "kpoints = np.load(f'{dataFolder}/kpoints.npy')\n",
    "band = bandfromgraph_torch(data_test.cpu(),calculator,torch.tensor(kpoints,dtype=torch.float32))\n",
    "data_test.hopping=(out_test.cpu().detach())\n",
    "band2 = bandfromgraph_torch(data_test.cpu().detach(),calculator,torch.tensor(kpoints,dtype=torch.float32))\n",
    "\n",
    "import matplotlib.pyplot as plt\n",
    "\n",
    "x = range(0,len(band2))\n",
    "\n",
    "for i,values in enumerate(band2):\n",
    "    plt.scatter(np.full(len(values),i), values, c=\"black\", s=2.0)\n",
    "\n",
    "for i,values in enumerate(band):\n",
    "    plt.scatter(np.full(len(values),i), values, c=\"red\", s=2.0)\n",
    "\n",
    "# Add labels and legend\n",
    "plt.xlabel('x')\n",
    "plt.ylabel('y')\n",
    "plt.ylim(-10,20)\n",
    "\n",
    "# Show the plot\n",
    "plt.show()"
   ]
  },
  {
   "cell_type": "code",
   "execution_count": null,
   "metadata": {},
   "outputs": [],
   "source": []
  }
 ],
 "metadata": {
  "kernelspec": {
   "display_name": "torchenv",
   "language": "python",
   "name": "python3"
  },
  "language_info": {
   "codemirror_mode": {
    "name": "ipython",
    "version": 3
   },
   "file_extension": ".py",
   "mimetype": "text/x-python",
   "name": "python",
   "nbconvert_exporter": "python",
   "pygments_lexer": "ipython3",
   "version": "3.12.3"
  }
 },
 "nbformat": 4,
 "nbformat_minor": 2
}
